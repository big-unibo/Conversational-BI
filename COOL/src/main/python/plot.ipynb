{
 "cells": [
  {
   "cell_type": "code",
   "execution_count": 1,
   "metadata": {},
   "outputs": [
    {
     "name": "stdout",
     "output_type": "stream",
     "text": [
      "Hello, world\n"
     ]
    }
   ],
   "source": [
    "print(\"Hello, world\")"
   ]
  },
  {
   "cell_type": "code",
   "execution_count": 2,
   "metadata": {},
   "outputs": [],
   "source": [
    "import os\n",
    "import matplotlib\n",
    "%matplotlib inline\n",
    "import matplotlib.pyplot as plt\n",
    "import matplotlib.font_manager as font_manager\n",
    "import pandas as pd\n",
    "import numpy as np\n",
    "import codecs\n",
    "import argparse\n",
    "\n",
    "parser = argparse.ArgumentParser(description='Plotting data.')\n",
    "parser.add_argument('--dataset', type=str, help='dataset', default='test_merged.csv')\n",
    "parser.add_argument('--inpath', type=str, help='where the dataset is lcoated', default='../../../resources/test/results_IS/')\n",
    "parser.add_argument('--outpath', type=str, help='where to put the charts', default='../../../resources/test/results_IS/')\n",
    "args, unknown = parser.parse_known_args()\n",
    "\n",
    "# ==============================================================================\n",
    "# Chart variables\n",
    "# ==============================================================================\n",
    "titlesize = 16\n",
    "subtitlesize = 14\n",
    "labelsize = 14\n",
    "axessize = 12\n",
    "legendsize = 11\n",
    "markersize = 5\n",
    "\n",
    "# http://scipy-cookbook.readthedocs.io/items/Matplotlib_LaTeX_Examples.html\n",
    "plt.rcParams.update(plt.rcParamsDefault)\n",
    "# plt.style.use('grayscale')\n",
    "# plt.rc('text', usetex=True)\n",
    "plt.rc('font', family='serif')\n",
    "plt.rcParams['mathtext.fontset'] = 'dejavuserif'\n",
    "font = font_manager.FontProperties(family='serif', size=legendsize)\n",
    "\n",
    "# You typically want your plot to be ~1.33x wider than tall. This plot is a rare\n",
    "# exception because of the number of lines being plotted on it.\n",
    "# Common sizes: (10, 7.5) and (12, 9)\n",
    "# Make room for the ridiculously large title.\n",
    "# plt.subplots_adjust(top=0.8)\n",
    "figsize = (12, 9)\n",
    "# figsize = (12,3)\n",
    "\n",
    "# Markers - https://matplotlib.org/api/markers_api.html\n",
    "markers = [\"v\", \"^\", \"<\", \">\", \"8\", \"s\", \"p\", \"P\", \"*\", \"+\", \"X\", \"D\", \"o\", \"s\"]\n",
    "greyscale = ['silver', 'grey', 'lightgrey', 'black']\n",
    "\n",
    "# Lines - https://matplotlib.org/gallery/lines_bars_and_markers/line_styles_reference.html\n",
    "\n",
    "# =============================================================================\n",
    "# Location String\tLocation Code\n",
    "# 'best'\t0\n",
    "# 'upper right'\t1\n",
    "# 'upper left'\t2\n",
    "# 'lower left'\t3\n",
    "# 'lower right'\t4\n",
    "# 'right'\t5\n",
    "# 'center left'\t6\n",
    "# 'center right'\t7\n",
    "# 'lower center'\t8\n",
    "# 'upper center'\t9\n",
    "# 'center'\t10\n",
    "# =============================================================================\n",
    "\n",
    "# =============================================================================\n",
    "# These are the \"Tableau 20\" colors as RGB.\n",
    "# http://www.randalolson.com/2014/06/28/how-to-make-beautiful-data-visualizations-in-python-with-matplotlib/\n",
    "# =============================================================================\n",
    "tableau20 = [(31, 119, 180), (174, 199, 232), (255, 127, 14), (255, 187, 120),\n",
    "             (44, 160, 44), (152, 223, 138), (214, 39, 40), (255, 152, 150),\n",
    "             (148, 103, 189), (197, 176, 213), (140, 86, 75), (196, 156, 148),\n",
    "             (227, 119, 194), (247, 182, 210), (127, 127, 127), (199, 199, 199),\n",
    "             (188, 189, 34), (219, 219, 141), (23, 190, 207), (158, 218, 229)]\n",
    "# Scale the RGB values to the [0, 1] range, which is the format matplotlib accepts.\n",
    "for i in range(len(tableau20)):\n",
    "    r, g, b = tableau20[i]\n",
    "    tableau20[i] = (r / 255., g / 255., b / 255.)\n",
    "\n",
    "# ==============================================================================\n",
    "path = args.inpath\n",
    "outpath = args.outpath\n",
    "filename = args.dataset\n",
    "simMember, simMeta, synMember, synMeta, nsize, covThr, maxNgramDistance = 0.8, 0.4, 1, 5, 3, 0.7, 3\n",
    "datasets = [\"Foodmart\", \"SSB\"]  # [\"dataset_patrick\", \"dataset_patrick_ssb\"]\n",
    "data = pd.DataFrame()\n",
    "with codecs.open(path + filename, 'r', encoding='utf-8') as f:\n",
    "    data = pd.read_csv(f, sep=';')\n",
    "    # data.infer_objects()\n",
    "data[\"dataset\"] = data[\"dataset\"].apply(lambda x: \"SSB\" if \"ssb\" in x else \"Foodmart\")\n",
    "# msize, m, ls, l, c = marker(filename)\n",
    "col_width=0.15\n",
    "figsize11 = (4, 3)"
   ]
  },
  {
   "cell_type": "code",
   "execution_count": 3,
   "metadata": {},
   "outputs": [],
   "source": [
    "%matplotlib inline\n",
    "def marker(filename):\n",
    "    # if 'EXT' in filename:\n",
    "    return 6, 'o', '-', 'C-BI', 'black'\n",
    "\n",
    "def myticks(x):\n",
    "    if x == 0 or int(np.log10(x)) == 0: return str(x)\n",
    "    exponent = int(np.log10(x))\n",
    "    coeff = float(x) / 10.0 ** exponent\n",
    "    return r\"${:2.1f} \\cdot 10^{{{:2d}}}$\".format(coeff, exponent)\n",
    "\n",
    "def common_chart_settings(ax, fig, title):\n",
    "    ax.grid(color=\"lightgray\", linestyle='-', linewidth=0.2)\n",
    "    ax.set_axisbelow(True)\n",
    "    ax.set_title(title)\n",
    "    \n",
    "    # ax.legend(handletextpad=0, columnspacing=0.4, labelspacing=0.2, frameon=False, fontsize=legendsize, ncol=4, bbox_to_anchor=(0.5, 1.1), loc='upper center')\n",
    "    # fig.tight_layout()\n",
    "    \n",
    "    handles, labels = ax.get_legend_handles_labels()\n",
    "    if (len(labels) > 0):\n",
    "        fig.legend(handles, labels, loc='lower left', ncol=4, mode=\"expand\", bbox_to_anchor=(0, -0.02, 1, 0.2), columnspacing=0.2, labelspacing=0.2, frameon=True, fontsize=9) # , fontsize=legendsize)\n",
    "    fig.tight_layout(rect=(0,0.04,1,1))\n",
    "\n",
    "    fig.show()\n",
    "\n",
    "def my_filter(ddata, dataset, \n",
    "              apply_sim_meta=False, apply_syn_meta=False, apply_kb=False, \n",
    "              apply_ngram_count=False, apply_disambiguation=-1, apply_k=1, apply_run=0):\n",
    "    ddata = ddata[ddata[\"search\"] == \"bktree\"]\n",
    "    ddata = ddata[ddata[\"synMember\"] == synMember]\n",
    "    ddata = ddata[ddata[\"%missing\"] == covThr]\n",
    "    ddata = ddata[ddata[\"maxDistance\"] == maxNgramDistance]\n",
    "    ddata = ddata[ddata[\"simMember\"] == simMember]\n",
    "    ddata = ddata[ddata[\"ngramSize\"] == nsize]\n",
    "    ddata = ddata[ddata[\"dataset\"] == dataset]\n",
    "\n",
    "    ddata = ddata[ddata[\"k\"] <= apply_k]\n",
    "    ddata = ddata[ddata[\"run\"] <= apply_run]\n",
    "    \n",
    "    if apply_sim_meta:\n",
    "        if dataset == \"Foodmart\":\n",
    "            ddata = ddata[ddata[\"simMeta\"] == simMeta]\n",
    "        else:\n",
    "            ddata = ddata[ddata[\"simMeta\"] == 0.7]\n",
    "    \n",
    "    if apply_syn_meta:\n",
    "        ddata = ddata[ddata[\"synMeta\"] == synMeta]\n",
    "    \n",
    "    if apply_disambiguation > 0:\n",
    "        ddata = ddata[ddata[\"disambiguationStep\"] == apply_disambiguation]\n",
    "    \n",
    "    if apply_ngram_count:\n",
    "        ddata = ddata[ddata[\"ngrams_count\"] % 2 == 1]\n",
    "    \n",
    "    if apply_kb:\n",
    "        ddata = ddata[ddata[\"kbsize\"] == ddata[\"kbsize\"].max()]\n",
    "    \n",
    "    return ddata\n",
    "    \n",
    "def plot_kb(ddata, dataset):\n",
    "    # ########################################################################\n",
    "    # Plot accuracy for increasing kbsize\n",
    "    fig, ax = plt.subplots(1, 1, figsize=figsize11)\n",
    "    ddata = my_filter(data, dataset, apply_sim_meta=True, apply_syn_meta=True, apply_disambiguation=3)\n",
    "    res = []\n",
    "    ss = sorted([x for x in ddata[\"kbsize\"].unique()])\n",
    "    for s in ss:\n",
    "        dddata = ddata\n",
    "        dddata = dddata[dddata[\"kbsize\"] == s]\n",
    "        d = dddata.groupby([\"id\"])\n",
    "        res.append([s, d['similarity'].max().mean()])\n",
    "    ind = np.arange(len(res))  # the x locations for the groups\n",
    "    ax.bar(ind, [x[1] for x in res], width=col_width, color='grey', bottom=0)\n",
    "    ax.set_xticks(ind)\n",
    "    ax.set_xticklabels([myticks(x[0]) for x in res]) \n",
    "    ax.set_ylabel(\"$TSim$\", fontsize=axessize)\n",
    "    ax.set_xlabel(\"$|KB|$\", fontsize=axessize)\n",
    "    ax.set_ylim([0, 1])\n",
    "    common_chart_settings(ax, fig, dataset)\n",
    "    fig.savefig('{}kbsize_{}.pdf'.format(outpath, dataset))\n",
    "\n",
    "def plot_pruning(ddata, dataset):\n",
    "    # ########################################################################\n",
    "    # ### Efficiency - pruning\n",
    "    fig, ax = plt.subplots(1, 1, figsize=figsize11)\n",
    "    ddata = my_filter(data, dataset, \n",
    "                      apply_kb=True, apply_disambiguation=0, apply_k=10, apply_ngram_count=True)\n",
    "    d = ddata.groupby([\"ngrams_count\"])\n",
    "    k = list(d.groups.keys())\n",
    "    ax.set_ylabel(\"Explored mappings\", fontsize=axessize)\n",
    "    ind = np.arange(len(k))  # the x locations for the groups\n",
    "    ax.bar(ind, d['sentence_pruned'].mean(), width=col_width, color='black', bottom=0, label=\"Computed\")\n",
    "    ax.bar(ind + col_width, d['sentence_count_pruned'].mean(), width=col_width, color='grey', bottom=0, label=\"Distinct\")\n",
    "    ax.bar(ind + col_width * 2, d['sentence_count'].mean(), width=col_width, color='darkgrey', bottom=0, label=\"All\")\n",
    "    print(dataset)\n",
    "    print(d['sentence_pruned'].mean())\n",
    "    print(d['sentence_count_pruned'].mean())\n",
    "    print(d['sentence_count'].mean())\n",
    "    ax.set_xticks(ind + col_width)\n",
    "    ax.set_xticklabels(k)\n",
    "    ax.set_xlabel(\"$|M|$\", fontsize=axessize)\n",
    "    ax.set_yscale('log')\n",
    "    common_chart_settings(ax, fig, dataset)\n",
    "    fig.savefig('{}pruning_{}.pdf'.format(outpath, dataset))\n",
    "    # plt.clf()\n",
    "\n",
    "def plot_disambiguation(ddata, dataset):\n",
    "    # ########################################################################\n",
    "    # Plot accuracy for increasing disambiguation step\n",
    "    fig, ax = plt.subplots(1, 1, figsize=figsize11)\n",
    "    ddata = my_filter(data, dataset, apply_sim_meta=True, apply_syn_meta=True, apply_kb=True)\n",
    "    res = []\n",
    "    for s in sorted([x for x in ddata[\"disambiguationStep\"].unique()]):\n",
    "        dddata = ddata\n",
    "        dddata = dddata[dddata[\"disambiguationStep\"] == s]\n",
    "        d = dddata.groupby([\"id\"])\n",
    "        res.append([s, d['similarity'].max().mean()])\n",
    "    ind = np.arange(len(res))  # the x locations for the groups\n",
    "    ax.bar(ind, [x[1] for x in res], width=col_width, color='grey', bottom=0)\n",
    "    ax.set_xticks(ind)\n",
    "    ax.set_xticklabels([x[0] for x in res])\n",
    "    ax.set_ylabel(\"$TSim$\", fontsize=axessize)\n",
    "    print(\"{} disambiguation accuracy: {}\".format(dataset, str(res)))\n",
    "    ax.set_xlabel(\"Disambiguation step\", fontsize=axessize)\n",
    "    ax.set_ylim([0, 1])\n",
    "    common_chart_settings(ax, fig, dataset)\n",
    "    fig.savefig('{}disambiguation_{}.pdf'.format(outpath, dataset))\n",
    "    # plt.clf()\n",
    "\n",
    "# Effectiveness - top-k similarity (no disambiguation)\n",
    "def plot_eff(ddata, fixed_n, dataset):\n",
    "    fig, ax = plt.subplots(1, 1, figsize=figsize11)\n",
    "    ddata = ddata = my_filter(data, dataset, apply_sim_meta=not fixed_n, apply_syn_meta=fixed_n, \n",
    "                              apply_disambiguation=0, apply_k=10, apply_kb=True, apply_ngram_count=True)\n",
    "    ddata[\"synMeta\"] = ddata[\"synMeta\"] + 1\n",
    "    ks = sorted([x for x in ddata[\"k\"].unique()])\n",
    "    res = []\n",
    "    width = 0  # the width of the bars\n",
    "    incwidth = 0.15\n",
    "    ind = 0\n",
    "    ss = sorted([x for x in ddata[\"simMeta\" if fixed_n else \"synMeta\"].unique()])\n",
    "    # ss = sorted([x for x in ddata[\"distanceThr\" if fixed_n else \"synMeta\"].unique()])\n",
    "    for idx, s in enumerate(ss, start=0):\n",
    "        res = []\n",
    "        for k in ks:\n",
    "            dddata = ddata\n",
    "            dddata = dddata[dddata[\"simMeta\" if fixed_n else \"synMeta\"] == s]\n",
    "            # dddata = dddata[dddata[\"distanceThr\" if fixed_n else \"synMeta\"] == s]\n",
    "            dddata = dddata[dddata[\"k\"] <= k]\n",
    "            d = dddata.groupby([\"id\"])\n",
    "            res.append([k, d['similarity'].max().mean()])\n",
    "        c = greyscale[idx]\n",
    "        ind = np.array([0]) if len(res) == 0 else np.arange(len(res))  # the x locations for the groups\n",
    "        ax.bar(ind + width, [x[1] for x in res], width=incwidth, color=c, bottom=0, label=\"${}={}$\".format(\"\\\\alpha\" if fixed_n else \"N\", str(s)))\n",
    "        width = width + incwidth\n",
    "        print(\"{} {}{} sim {}\".format(dataset, (\"\\\\alpha\" if fixed_n else \"N\"), str(s), str([x[1] for x in res])))\n",
    "    ax.set_xticks(ind + incwidth)\n",
    "    ax.set_xticklabels([x[0] for x in res])\n",
    "    ax.set_ylabel(\"$TSim$\", fontsize=axessize)\n",
    "    ax.set_xlabel(\"$k$\", fontsize=axessize)\n",
    "    ax.set_ylim([0, 1])\n",
    "    common_chart_settings(ax, fig, dataset)\n",
    "    fig.savefig('{}{}_{}.pdf'.format(outpath, \"alpha\" if fixed_n else \"N\", dataset))\n",
    "    # fig.show()\n",
    "    # plt.clf()\n",
    "        \n",
    "# ########################################################################\n",
    "# Efficiency - Time (s)\n",
    "def plot_time(ddata, fixed_n, dataset):\n",
    "    fig, ax = plt.subplots(1, 1, figsize=figsize11)\n",
    "    ddata = my_filter(data, dataset, \n",
    "                      apply_sim_meta=not fixed_n, apply_syn_meta=fixed_n, \n",
    "                      apply_kb=True, apply_disambiguation=0, apply_k=10, apply_run=10, apply_ngram_count=True)\n",
    "    ddata[\"synMeta\"] = ddata[\"synMeta\"] + 1\n",
    "    width = 0  # the width of the bars\n",
    "    incwidth = 0.15\n",
    "    ss = sorted([x for x in ddata[\"simMeta\" if fixed_n else \"synMeta\"].unique()])\n",
    "    # ss = sorted([x for x in ddata[\"distanceThr\" if fixed_n else \"synMeta\"].unique()])\n",
    "    allks = set()\n",
    "    for idx, s in enumerate(ss, start=0):\n",
    "        dddata = ddata\n",
    "        dddata = dddata[dddata[\"simMeta\" if fixed_n else \"synMeta\"] == s]\n",
    "        # dddata = dddata[dddata[\"distanceThr\" if fixed_n else \"synMeta\"] == s]\n",
    "        d = dddata.groupby([\"ngrams_count\"])\n",
    "        k = list(d.groups.keys())\n",
    "        print(\"{} {} {}\".format(dataset, s, str(k)))\n",
    "        allks |= set(k)\n",
    "        c = greyscale[idx]\n",
    "        ind = np.arange(len(k))  # the x locations for the groups\n",
    "        ax.bar(ind + width, d['total_time'].mean() / 1000, width=incwidth, bottom=0, color=c, label=\"${}={}$\".format(\"\\\\alpha\" if fixed_n else \"N\", str(s)))  # \",\n",
    "        width = width + incwidth\n",
    "    ax.set_xticks(np.arange(len(allks)) + incwidth)\n",
    "    ax.set_xticklabels(sorted(list(allks)))\n",
    "    ax.set_ylabel(\"$Time~(s)$\", fontsize=axessize)\n",
    "    ax.set_xlabel(\"$|M|$\", fontsize=axessize)\n",
    "    ax.set_yscale('log')\n",
    "    ax.set_ylim([0.05, 10])  # for DOLAP ymax = 100\n",
    "    common_chart_settings(ax, fig, dataset)\n",
    "    fig.savefig('{}{}_time_{}.pdf'.format(outpath, \"alpha\" if fixed_n else \"N\", dataset))\n",
    "    # plt.clf()"
   ]
  },
  {
   "cell_type": "code",
   "execution_count": 4,
   "metadata": {},
   "outputs": [
    {
     "name": "stderr",
     "output_type": "stream",
     "text": [
      "<ipython-input-3-5528a033aa30>:25: UserWarning: Matplotlib is currently using module://ipykernel.pylab.backend_inline, which is a non-GUI backend, so cannot show the figure.\n",
      "  fig.show()\n",
      "<ipython-input-3-5528a033aa30>:25: UserWarning: Matplotlib is currently using module://ipykernel.pylab.backend_inline, which is a non-GUI backend, so cannot show the figure.\n",
      "  fig.show()\n"
     ]
    },
    {
     "name": "stdout",
     "output_type": "stream",
     "text": [
      "Foodmart\n",
      "ngrams_count\n",
      "1       9.070423\n",
      "3      26.699160\n",
      "5     213.276367\n",
      "7     129.177683\n",
      "9    1227.769231\n",
      "Name: sentence_pruned, dtype: float64\n",
      "ngrams_count\n",
      "1       9.098592\n",
      "3      29.931092\n",
      "5     440.395508\n",
      "7     950.472637\n",
      "9    6480.692308\n",
      "Name: sentence_count_pruned, dtype: float64\n",
      "ngrams_count\n",
      "1       12.042254\n",
      "3       52.687395\n",
      "5     1365.995117\n",
      "7     3723.178394\n",
      "9    20018.153846\n",
      "Name: sentence_count, dtype: float64\n"
     ]
    },
    {
     "name": "stderr",
     "output_type": "stream",
     "text": [
      "<ipython-input-3-5528a033aa30>:25: UserWarning: Matplotlib is currently using module://ipykernel.pylab.backend_inline, which is a non-GUI backend, so cannot show the figure.\n",
      "  fig.show()\n"
     ]
    },
    {
     "name": "stdout",
     "output_type": "stream",
     "text": [
      "SSB\n",
      "ngrams_count\n",
      "1      6.373016\n",
      "3     11.602317\n",
      "5     51.933761\n",
      "7     34.628077\n",
      "9    553.000000\n",
      "Name: sentence_pruned, dtype: float64\n",
      "ngrams_count\n",
      "1       6.373016\n",
      "3      12.777992\n",
      "5      95.641026\n",
      "7     289.357285\n",
      "9    1389.250000\n",
      "Name: sentence_count_pruned, dtype: float64\n",
      "ngrams_count\n",
      "1      10.452381\n",
      "3      24.571429\n",
      "5     345.222222\n",
      "7    1070.824351\n",
      "9    6116.875000\n",
      "Name: sentence_count, dtype: float64\n"
     ]
    },
    {
     "name": "stderr",
     "output_type": "stream",
     "text": [
      "<ipython-input-3-5528a033aa30>:25: UserWarning: Matplotlib is currently using module://ipykernel.pylab.backend_inline, which is a non-GUI backend, so cannot show the figure.\n",
      "  fig.show()\n"
     ]
    },
    {
     "name": "stdout",
     "output_type": "stream",
     "text": [
      "Foodmart disambiguation accuracy: [[0, 0.8857272727272728], [1, 0.912], [2, 0.9159090909090909], [3, 0.917]]\n"
     ]
    },
    {
     "name": "stderr",
     "output_type": "stream",
     "text": [
      "<ipython-input-3-5528a033aa30>:25: UserWarning: Matplotlib is currently using module://ipykernel.pylab.backend_inline, which is a non-GUI backend, so cannot show the figure.\n",
      "  fig.show()\n"
     ]
    },
    {
     "name": "stdout",
     "output_type": "stream",
     "text": [
      "SSB disambiguation accuracy: [[0, 0.8938181818181818], [1, 0.9362385321100919], [2, 0.9418348623853211], [3, 0.9429357798165138]]\n"
     ]
    },
    {
     "name": "stderr",
     "output_type": "stream",
     "text": [
      "<ipython-input-3-5528a033aa30>:25: UserWarning: Matplotlib is currently using module://ipykernel.pylab.backend_inline, which is a non-GUI backend, so cannot show the figure.\n",
      "  fig.show()\n"
     ]
    },
    {
     "data": {
      "image/png": "[encoded data removed]",
      "text/plain": [
       "<Figure size 288x216 with 1 Axes>"
      ]
     },
     "metadata": {
      "needs_background": "light"
     },
     "output_type": "display_data"
    },
    {
     "data": {
      "image/png": "[encoded data removed]",
      "text/plain": [
       "<Figure size 288x216 with 1 Axes>"
      ]
     },
     "metadata": {
      "needs_background": "light"
     },
     "output_type": "display_data"
    },
    {
     "data": {
      "image/png": "[encoded data removed]",
      "text/plain": [
       "<Figure size 288x216 with 1 Axes>"
      ]
     },
     "metadata": {
      "needs_background": "light"
     },
     "output_type": "display_data"
    },
    {
     "data": {
      "image/png": "[encoded data removed]",
      "text/plain": [
       "<Figure size 288x216 with 1 Axes>"
      ]
     },
     "metadata": {
      "needs_background": "light"
     },
     "output_type": "display_data"
    },
    {
     "data": {
      "image/png": "[encoded data removed]",
      "text/plain": [
       "<Figure size 288x216 with 1 Axes>"
      ]
     },
     "metadata": {
      "needs_background": "light"
     },
     "output_type": "display_data"
    },
    {
     "data": {
      "image/png": "[encoded data removed]",
      "text/plain": [
       "<Figure size 288x216 with 1 Axes>"
      ]
     },
     "metadata": {
      "needs_background": "light"
     },
     "output_type": "display_data"
    }
   ],
   "source": [
    "for dataset in datasets:\n",
    "    plot_kb(data, dataset)\n",
    "for dataset in datasets:\n",
    "    plot_pruning(data, dataset)\n",
    "for dataset in datasets:\n",
    "    plot_disambiguation(data, dataset)"
   ]
  },
  {
   "cell_type": "code",
   "execution_count": 5,
   "metadata": {},
   "outputs": [
    {
     "name": "stdout",
     "output_type": "stream",
     "text": [
      "Foodmart \\alpha0.4 sim [0.844871794871795, 0.8671910112359551, 0.8978260869565217, 0.8963157894736843, 0.9032352941176471]\n",
      "Foodmart \\alpha0.5 sim [0.9143333333333333, 0.892439024390244, 0.9036734693877552, 0.9096000000000001, 0.9147572815533981]\n",
      "Foodmart \\alpha0.6 sim [0.9016666666666666, 0.8888235294117647, 0.9077227722772278, 0.9142718446601942, 0.9177142857142857]\n",
      "Foodmart \\alpha0.7 sim [0.8932258064516129, 0.8715384615384614, 0.905050505050505, 0.9130303030303029, 0.9138]\n"
     ]
    },
    {
     "name": "stderr",
     "output_type": "stream",
     "text": [
      "<ipython-input-3-5528a033aa30>:25: UserWarning: Matplotlib is currently using module://ipykernel.pylab.backend_inline, which is a non-GUI backend, so cannot show the figure.\n",
      "  fig.show()\n"
     ]
    },
    {
     "name": "stdout",
     "output_type": "stream",
     "text": [
      "SSB \\alpha0.4 sim [0.8905882352941177, 0.8916494845360824, 0.9193000000000001, 0.9204000000000001, 0.9223762376237625]\n",
      "SSB \\alpha0.5 sim [0.8905882352941177, 0.8842424242424242, 0.9193000000000001, 0.9216831683168317, 0.9193333333333333]\n",
      "SSB \\alpha0.6 sim [0.9012121212121211, 0.8877319587628867, 0.9234343434343433, 0.9251, 0.9244660194174757]\n",
      "SSB \\alpha0.7 sim [0.9012121212121211, 0.8877319587628867, 0.9208910891089109, 0.9235643564356436, 0.9247572815533981]\n"
     ]
    },
    {
     "name": "stderr",
     "output_type": "stream",
     "text": [
      "<ipython-input-3-5528a033aa30>:25: UserWarning: Matplotlib is currently using module://ipykernel.pylab.backend_inline, which is a non-GUI backend, so cannot show the figure.\n",
      "  fig.show()\n"
     ]
    },
    {
     "name": "stdout",
     "output_type": "stream",
     "text": [
      "Foodmart N2 sim [0.893125, 0.8745000000000002, 0.9102000000000001, 0.9105607476635514, 0.9158878504672897]\n",
      "Foodmart N4 sim [0.8664705882352941, 0.87561797752809, 0.9029032258064518, 0.9064646464646465, 0.9136274509803921]\n",
      "Foodmart N6 sim [0.844871794871795, 0.8671910112359551, 0.8978260869565217, 0.8963157894736843, 0.9032352941176471]\n"
     ]
    },
    {
     "name": "stderr",
     "output_type": "stream",
     "text": [
      "<ipython-input-3-5528a033aa30>:25: UserWarning: Matplotlib is currently using module://ipykernel.pylab.backend_inline, which is a non-GUI backend, so cannot show the figure.\n",
      "  fig.show()\n"
     ]
    },
    {
     "name": "stdout",
     "output_type": "stream",
     "text": [
      "SSB N2 sim [0.9012121212121211, 0.8911224489795918, 0.925, 0.9276470588235295, 0.9300980392156863]\n",
      "SSB N4 sim [0.9012121212121211, 0.8877319587628867, 0.9208910891089109, 0.9235643564356436, 0.9247572815533981]\n",
      "SSB N6 sim [0.9012121212121211, 0.8877319587628867, 0.9208910891089109, 0.9235643564356436, 0.9247572815533981]\n"
     ]
    },
    {
     "name": "stderr",
     "output_type": "stream",
     "text": [
      "<ipython-input-3-5528a033aa30>:25: UserWarning: Matplotlib is currently using module://ipykernel.pylab.backend_inline, which is a non-GUI backend, so cannot show the figure.\n",
      "  fig.show()\n"
     ]
    },
    {
     "name": "stdout",
     "output_type": "stream",
     "text": [
      "Foodmart 0.4 [1, 3, 5, 7, 9]\n",
      "Foodmart 0.5 [1, 3, 5, 7, 9]\n",
      "Foodmart 0.6 [1, 3, 5, 7]\n",
      "Foodmart 0.7 [1, 3, 5, 7, 9]\n"
     ]
    },
    {
     "name": "stderr",
     "output_type": "stream",
     "text": [
      "<ipython-input-3-5528a033aa30>:25: UserWarning: Matplotlib is currently using module://ipykernel.pylab.backend_inline, which is a non-GUI backend, so cannot show the figure.\n",
      "  fig.show()\n"
     ]
    },
    {
     "name": "stdout",
     "output_type": "stream",
     "text": [
      "SSB 0.4 [1, 3, 5, 7]\n",
      "SSB 0.5 [1, 3, 5, 7, 9]\n",
      "SSB 0.6 [1, 3, 5, 7, 9]\n",
      "SSB 0.7 [1, 3, 5, 7, 9]\n"
     ]
    },
    {
     "name": "stderr",
     "output_type": "stream",
     "text": [
      "<ipython-input-3-5528a033aa30>:25: UserWarning: Matplotlib is currently using module://ipykernel.pylab.backend_inline, which is a non-GUI backend, so cannot show the figure.\n",
      "  fig.show()\n"
     ]
    },
    {
     "name": "stdout",
     "output_type": "stream",
     "text": [
      "Foodmart 2 [1, 3, 5, 7, 9]\n",
      "Foodmart 4 [1, 3, 5, 7, 9]\n",
      "Foodmart 6 [1, 3, 5, 7, 9]\n"
     ]
    },
    {
     "name": "stderr",
     "output_type": "stream",
     "text": [
      "<ipython-input-3-5528a033aa30>:25: UserWarning: Matplotlib is currently using module://ipykernel.pylab.backend_inline, which is a non-GUI backend, so cannot show the figure.\n",
      "  fig.show()\n"
     ]
    },
    {
     "name": "stdout",
     "output_type": "stream",
     "text": [
      "SSB 2 [1, 3, 5, 7, 9]\n",
      "SSB 4 [1, 3, 5, 7, 9]\n",
      "SSB 6 [1, 3, 5, 7, 9]\n"
     ]
    },
    {
     "name": "stderr",
     "output_type": "stream",
     "text": [
      "<ipython-input-3-5528a033aa30>:25: UserWarning: Matplotlib is currently using module://ipykernel.pylab.backend_inline, which is a non-GUI backend, so cannot show the figure.\n",
      "  fig.show()\n"
     ]
    },
    {
     "data": {
      "image/png": "[encoded data removed]",
      "text/plain": [
       "<Figure size 288x216 with 1 Axes>"
      ]
     },
     "metadata": {
      "needs_background": "light"
     },
     "output_type": "display_data"
    },
    {
     "data": {
      "image/png": "[encoded data removed]",
      "text/plain": [
       "<Figure size 288x216 with 1 Axes>"
      ]
     },
     "metadata": {
      "needs_background": "light"
     },
     "output_type": "display_data"
    },
    {
     "data": {
      "image/png": "[encoded data removed]",
      "text/plain": [
       "<Figure size 288x216 with 1 Axes>"
      ]
     },
     "metadata": {
      "needs_background": "light"
     },
     "output_type": "display_data"
    },
    {
     "data": {
      "image/png": "[encoded data removed]",
      "text/plain": [
       "<Figure size 288x216 with 1 Axes>"
      ]
     },
     "metadata": {
      "needs_background": "light"
     },
     "output_type": "display_data"
    },
    {
     "data": {
      "image/png": "[encoded data removed]",
      "text/plain": [
       "<Figure size 288x216 with 1 Axes>"
      ]
     },
     "metadata": {
      "needs_background": "light"
     },
     "output_type": "display_data"
    },
    {
     "data": {
      "image/png": "[encoded data removed]",
      "text/plain": [
       "<Figure size 288x216 with 1 Axes>"
      ]
     },
     "metadata": {
      "needs_background": "light"
     },
     "output_type": "display_data"
    },
    {
     "data": {
      "image/png": "[encoded data removed]",
      "text/plain": [
       "<Figure size 288x216 with 1 Axes>"
      ]
     },
     "metadata": {
      "needs_background": "light"
     },
     "output_type": "display_data"
    },
    {
     "data": {
      "image/png": "[encoded data removed]",
      "text/plain": [
       "<Figure size 288x216 with 1 Axes>"
      ]
     },
     "metadata": {
      "needs_background": "light"
     },
     "output_type": "display_data"
    }
   ],
   "source": [
    "for dataset in datasets:\n",
    "    plot_eff(data, True, dataset)\n",
    "for dataset in datasets:\n",
    "    plot_eff(data, False, dataset)\n",
    "for dataset in datasets:\n",
    "    plot_time(data, True, dataset)\n",
    "for dataset in datasets:\n",
    "    plot_time(data, False, dataset)"
   ]
  }
 ],
 "metadata": {
  "kernelspec": {
   "display_name": "Python 3",
   "language": "python",
   "name": "python3"
  },
  "language_info": {
   "codemirror_mode": {
    "name": "ipython",
    "version": 3
   },
   "file_extension": ".py",
   "mimetype": "text/x-python",
   "name": "python",
   "nbconvert_exporter": "python",
   "pygments_lexer": "ipython3",
   "version": "3.9.0"
  }
 },
 "nbformat": 4,
 "nbformat_minor": 4
}
